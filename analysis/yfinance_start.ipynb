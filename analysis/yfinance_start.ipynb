{
 "cells": [
  {
   "cell_type": "markdown",
   "metadata": {},
   "source": [
    "Itaú Unibanco Holding S.A. (ITUB4.SA)\n",
    "Nvidia (NVDA)"
   ]
  },
  {
   "cell_type": "code",
   "execution_count": 1,
   "metadata": {},
   "outputs": [],
   "source": [
    "import yfinance as yf"
   ]
  },
  {
   "cell_type": "code",
   "execution_count": 2,
   "metadata": {},
   "outputs": [],
   "source": [
    "nvda = yf.Ticker(\"NVDA\")\n",
    "itub = yf.Ticker(\"ITUB4.SA\")"
   ]
  },
  {
   "cell_type": "markdown",
   "metadata": {},
   "source": [
    "Corp informations"
   ]
  },
  {
   "cell_type": "code",
   "execution_count": null,
   "metadata": {},
   "outputs": [],
   "source": [
    "display(itub)\n",
    "itub.info"
   ]
  },
  {
   "cell_type": "code",
   "execution_count": null,
   "metadata": {},
   "outputs": [],
   "source": [
    "display(nvda)\n",
    "nvda.info"
   ]
  },
  {
   "cell_type": "markdown",
   "metadata": {},
   "source": [
    "historical market data"
   ]
  },
  {
   "cell_type": "code",
   "execution_count": 12,
   "metadata": {},
   "outputs": [],
   "source": [
    "data = nvda.history(period=\"1mo\")"
   ]
  },
  {
   "cell_type": "code",
   "execution_count": 13,
   "metadata": {},
   "outputs": [
    {
     "name": "stdout",
     "output_type": "stream",
     "text": [
      "                        Date        Open        High         Low       Close  \\\n",
      "0  2024-10-07 00:00:00-04:00  124.989998  130.639999  124.949997  127.720001   \n",
      "1  2024-10-08 00:00:00-04:00  130.259995  133.479996  129.419998  132.889999   \n",
      "2  2024-10-09 00:00:00-04:00  134.110001  134.520004  131.380005  132.649994   \n",
      "3  2024-10-10 00:00:00-04:00  131.910004  135.000000  131.000000  134.809998   \n",
      "4  2024-10-11 00:00:00-04:00  134.009995  135.779999  133.660004  134.800003   \n",
      "5  2024-10-14 00:00:00-04:00  136.470001  139.600006  136.300003  138.070007   \n",
      "6  2024-10-15 00:00:00-04:00  137.869995  138.570007  128.740005  131.600006   \n",
      "7  2024-10-16 00:00:00-04:00  133.979996  136.619995  131.580002  135.720001   \n",
      "8  2024-10-17 00:00:00-04:00  139.339996  140.889999  136.869995  136.929993   \n",
      "9  2024-10-18 00:00:00-04:00  138.669998  138.899994  137.279999  138.000000   \n",
      "10 2024-10-21 00:00:00-04:00  138.130005  143.710007  138.000000  143.710007   \n",
      "11 2024-10-22 00:00:00-04:00  142.910004  144.419998  141.779999  143.589996   \n",
      "12 2024-10-23 00:00:00-04:00  142.029999  142.429993  137.460007  139.559998   \n",
      "13 2024-10-24 00:00:00-04:00  140.820007  141.350006  138.460007  140.410004   \n",
      "14 2024-10-25 00:00:00-04:00  140.929993  144.130005  140.800003  141.539993   \n",
      "15 2024-10-28 00:00:00-04:00  143.000000  143.139999  140.050003  140.520004   \n",
      "16 2024-10-29 00:00:00-04:00  140.289993  142.259995  138.899994  141.250000   \n",
      "17 2024-10-30 00:00:00-04:00  139.539993  140.330002  136.809998  139.339996   \n",
      "18 2024-10-31 00:00:00-04:00  137.600006  137.610001  132.110001  132.759995   \n",
      "19 2024-11-01 00:00:00-04:00  134.699997  137.309998  134.570007  135.399994   \n",
      "20 2024-11-04 00:00:00-05:00  137.210007  138.960007  135.570007  136.050003   \n",
      "21 2024-11-05 00:00:00-05:00  137.429993  139.479996  137.330002  138.952805   \n",
      "\n",
      "       Volume  Dividends  Stock Splits  \n",
      "0   346250200        0.0           0.0  \n",
      "1   285722500        0.0           0.0  \n",
      "2   246191600        0.0           0.0  \n",
      "3   242311300        0.0           0.0  \n",
      "4   170209500        0.0           0.0  \n",
      "5   232347700        0.0           0.0  \n",
      "6   377831000        0.0           0.0  \n",
      "7   264879700        0.0           0.0  \n",
      "8   306435900        0.0           0.0  \n",
      "9   176090200        0.0           0.0  \n",
      "10  264554500        0.0           0.0  \n",
      "11  226311600        0.0           0.0  \n",
      "12  285930000        0.0           0.0  \n",
      "13  172354900        0.0           0.0  \n",
      "14  205122100        0.0           0.0  \n",
      "15  173586700        0.0           0.0  \n",
      "16  157593600        0.0           0.0  \n",
      "17  179418100        0.0           0.0  \n",
      "18  270039600        0.0           0.0  \n",
      "19  207127800        0.0           0.0  \n",
      "20  186736000        0.0           0.0  \n",
      "21   55414059        0.0           0.0  \n"
     ]
    }
   ],
   "source": [
    "print(data.reset_index())"
   ]
  },
  {
   "cell_type": "markdown",
   "metadata": {},
   "source": [
    "Qual o período permitido ?\n",
    "Qual o intervalo ?\n",
    "Lista de papéis\n",
    "\n",
    "https://aroussi.com/post/python-yahoo-finance\n",
    "\n",
    "Available paramaters for the history() method are:\n",
    "\n",
    "    period: data period to download (Either Use period parameter or use start and end) Valid periods are: 1d, 5d, 1mo, 3mo, 6mo, 1y, 2y, 5y, 10y, ytd, max\n",
    "    interval: data interval (intraday data cannot extend last 60 days) Valid intervals are: 1m, 2m, 5m, 15m, 30m, 60m, 90m, 1h, 1d, 5d, 1wk, 1mo, 3mo\n",
    "    start: If not using period - Download start date string (YYYY-MM-DD) or datetime.\n",
    "    end: If not using period - Download end date string (YYYY-MM-DD) or datetime.\n",
    "    prepost: Include Pre and Post market data in results? (Default is False)\n",
    "    auto_adjust: Adjust all OHLC automatically? (Default is True)\n",
    "    actions: Download stock dividends and stock splits events? (Default is True)\n"
   ]
  }
 ],
 "metadata": {
  "kernelspec": {
   "display_name": ".venv",
   "language": "python",
   "name": "python3"
  },
  "language_info": {
   "codemirror_mode": {
    "name": "ipython",
    "version": 3
   },
   "file_extension": ".py",
   "mimetype": "text/x-python",
   "name": "python",
   "nbconvert_exporter": "python",
   "pygments_lexer": "ipython3",
   "version": "3.10.11"
  }
 },
 "nbformat": 4,
 "nbformat_minor": 2
}
