{
 "cells": [
  {
   "cell_type": "markdown",
   "metadata": {},
   "source": [
    "Itaú Unibanco Holding S.A. (ITUB4.SA)\n",
    "Nvidia (NVDA)"
   ]
  },
  {
   "cell_type": "code",
   "execution_count": 5,
   "metadata": {},
   "outputs": [],
   "source": [
    "import yfinance as yf"
   ]
  },
  {
   "cell_type": "code",
   "execution_count": 9,
   "metadata": {},
   "outputs": [],
   "source": [
    "nvda = yf.Ticker(\"NVDA\")\n",
    "\n",
    "itub = yf.Ticker(\"ITUB4.SA\")"
   ]
  },
  {
   "cell_type": "markdown",
   "metadata": {},
   "source": [
    "Corp informations"
   ]
  },
  {
   "cell_type": "code",
   "execution_count": null,
   "metadata": {},
   "outputs": [],
   "source": [
    "display(itub)\n",
    "itub.info"
   ]
  },
  {
   "cell_type": "code",
   "execution_count": null,
   "metadata": {},
   "outputs": [],
   "source": [
    "display(nvda)\n",
    "nvda.info"
   ]
  },
  {
   "cell_type": "markdown",
   "metadata": {},
   "source": [
    "historical market data"
   ]
  },
  {
   "cell_type": "code",
   "execution_count": 7,
   "metadata": {},
   "outputs": [
    {
     "data": {
      "text/html": [
       "<div>\n",
       "<style scoped>\n",
       "    .dataframe tbody tr th:only-of-type {\n",
       "        vertical-align: middle;\n",
       "    }\n",
       "\n",
       "    .dataframe tbody tr th {\n",
       "        vertical-align: top;\n",
       "    }\n",
       "\n",
       "    .dataframe thead th {\n",
       "        text-align: right;\n",
       "    }\n",
       "</style>\n",
       "<table border=\"1\" class=\"dataframe\">\n",
       "  <thead>\n",
       "    <tr style=\"text-align: right;\">\n",
       "      <th></th>\n",
       "      <th>Open</th>\n",
       "      <th>High</th>\n",
       "      <th>Low</th>\n",
       "      <th>Close</th>\n",
       "      <th>Volume</th>\n",
       "      <th>Dividends</th>\n",
       "      <th>Stock Splits</th>\n",
       "    </tr>\n",
       "    <tr>\n",
       "      <th>Date</th>\n",
       "      <th></th>\n",
       "      <th></th>\n",
       "      <th></th>\n",
       "      <th></th>\n",
       "      <th></th>\n",
       "      <th></th>\n",
       "      <th></th>\n",
       "    </tr>\n",
       "  </thead>\n",
       "  <tbody>\n",
       "    <tr>\n",
       "      <th>2024-10-14 00:00:00-04:00</th>\n",
       "      <td>136.470001</td>\n",
       "      <td>139.600006</td>\n",
       "      <td>136.300003</td>\n",
       "      <td>138.070007</td>\n",
       "      <td>232347700</td>\n",
       "      <td>0.0</td>\n",
       "      <td>0.0</td>\n",
       "    </tr>\n",
       "    <tr>\n",
       "      <th>2024-10-15 00:00:00-04:00</th>\n",
       "      <td>137.869995</td>\n",
       "      <td>138.570007</td>\n",
       "      <td>128.740005</td>\n",
       "      <td>131.600006</td>\n",
       "      <td>377831000</td>\n",
       "      <td>0.0</td>\n",
       "      <td>0.0</td>\n",
       "    </tr>\n",
       "    <tr>\n",
       "      <th>2024-10-16 00:00:00-04:00</th>\n",
       "      <td>133.979996</td>\n",
       "      <td>136.619995</td>\n",
       "      <td>131.580002</td>\n",
       "      <td>135.720001</td>\n",
       "      <td>264879700</td>\n",
       "      <td>0.0</td>\n",
       "      <td>0.0</td>\n",
       "    </tr>\n",
       "    <tr>\n",
       "      <th>2024-10-17 00:00:00-04:00</th>\n",
       "      <td>139.339996</td>\n",
       "      <td>140.889999</td>\n",
       "      <td>136.869995</td>\n",
       "      <td>136.929993</td>\n",
       "      <td>306435900</td>\n",
       "      <td>0.0</td>\n",
       "      <td>0.0</td>\n",
       "    </tr>\n",
       "    <tr>\n",
       "      <th>2024-10-18 00:00:00-04:00</th>\n",
       "      <td>138.669998</td>\n",
       "      <td>138.899994</td>\n",
       "      <td>137.279999</td>\n",
       "      <td>138.000000</td>\n",
       "      <td>175800600</td>\n",
       "      <td>0.0</td>\n",
       "      <td>0.0</td>\n",
       "    </tr>\n",
       "  </tbody>\n",
       "</table>\n",
       "</div>"
      ],
      "text/plain": [
       "                                 Open        High         Low       Close  \\\n",
       "Date                                                                        \n",
       "2024-10-14 00:00:00-04:00  136.470001  139.600006  136.300003  138.070007   \n",
       "2024-10-15 00:00:00-04:00  137.869995  138.570007  128.740005  131.600006   \n",
       "2024-10-16 00:00:00-04:00  133.979996  136.619995  131.580002  135.720001   \n",
       "2024-10-17 00:00:00-04:00  139.339996  140.889999  136.869995  136.929993   \n",
       "2024-10-18 00:00:00-04:00  138.669998  138.899994  137.279999  138.000000   \n",
       "\n",
       "                              Volume  Dividends  Stock Splits  \n",
       "Date                                                           \n",
       "2024-10-14 00:00:00-04:00  232347700        0.0           0.0  \n",
       "2024-10-15 00:00:00-04:00  377831000        0.0           0.0  \n",
       "2024-10-16 00:00:00-04:00  264879700        0.0           0.0  \n",
       "2024-10-17 00:00:00-04:00  306435900        0.0           0.0  \n",
       "2024-10-18 00:00:00-04:00  175800600        0.0           0.0  "
      ]
     },
     "execution_count": 7,
     "metadata": {},
     "output_type": "execute_result"
    }
   ],
   "source": [
    "nvda.history(period=\"5d\")"
   ]
  },
  {
   "cell_type": "markdown",
   "metadata": {},
   "source": [
    "Qual o período permitido ?\n",
    "Qual o intervalo ?\n",
    "Lista de papéis\n"
   ]
  }
 ],
 "metadata": {
  "kernelspec": {
   "display_name": ".venv",
   "language": "python",
   "name": "python3"
  },
  "language_info": {
   "codemirror_mode": {
    "name": "ipython",
    "version": 3
   },
   "file_extension": ".py",
   "mimetype": "text/x-python",
   "name": "python",
   "nbconvert_exporter": "python",
   "pygments_lexer": "ipython3",
   "version": "3.10.11"
  }
 },
 "nbformat": 4,
 "nbformat_minor": 2
}
